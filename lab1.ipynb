{
 "cells": [
  {
   "cell_type": "code",
   "execution_count": 2,
   "id": "45281186-2148-4ac7-ac48-af0eb33f854d",
   "metadata": {},
   "outputs": [
    {
     "name": "stdin",
     "output_type": "stream",
     "text": [
      "Enter a string:  ayyapa reddy\n"
     ]
    },
    {
     "name": "stdout",
     "output_type": "stream",
     "text": [
      "Number of vowels: 4\n",
      "Number of consonants: 7\n"
     ]
    }
   ],
   "source": [
    "def count_vowels_and_consonants(input_string):\n",
    "    # Define vowels\n",
    "    vowels = \"aeiouAEIOU\"\n",
    "    # Initialize counters\n",
    "    vowel_count = 0\n",
    "    consonant_count = 0\n",
    "\n",
    "    # Iterate through each character in the input string\n",
    "    for char in input_string:\n",
    "        if char.isalpha():  # Check if the character is an alphabet\n",
    "            if char in vowels:\n",
    "                vowel_count += 1  # Increment vowel count\n",
    "            else:\n",
    "                consonant_count += 1  # Increment consonant count\n",
    "\n",
    "    return vowel_count, consonant_count\n",
    "\n",
    "# Get user input\n",
    "user_input = input(\"Enter a string: \")\n",
    "\n",
    "# Count vowels and consonants\n",
    "vowels, consonants = count_vowels_and_consonants(user_input)\n",
    "\n",
    "# Display the results\n",
    "print(f\"Number of vowels: {vowels}\")\n",
    "print(f\"Number of consonants: {consonants}\")"
   ]
  },
  {
   "cell_type": "code",
   "execution_count": 7,
   "id": "04f97829-8010-4a1e-b433-4d579df02964",
   "metadata": {},
   "outputs": [
    {
     "name": "stdin",
     "output_type": "stream",
     "text": [
      "Enter the number of rows for matrix A:  2\n",
      "Enter the number of columns for matrix A:  2\n"
     ]
    },
    {
     "name": "stdout",
     "output_type": "stream",
     "text": [
      "Enter the elements of matrix A row-wise:\n"
     ]
    },
    {
     "name": "stdin",
     "output_type": "stream",
     "text": [
      "Row 1:  12 17\n",
      "Row 2:  19 17 \n",
      "Enter the number of rows for matrix B:  2\n",
      "Enter the number of columns for matrix B:  2\n"
     ]
    },
    {
     "name": "stdout",
     "output_type": "stream",
     "text": [
      "Enter the elements of matrix B row-wise:\n"
     ]
    },
    {
     "name": "stdin",
     "output_type": "stream",
     "text": [
      "Row 1:  18 17 \n",
      "Row 2:  19 15\n"
     ]
    },
    {
     "name": "stdout",
     "output_type": "stream",
     "text": [
      "Product of matrices A and B:\n",
      "539 459\n",
      "665 578\n"
     ]
    }
   ],
   "source": [
    "def get_matrix_input(matrix_name):\n",
    "    \"\"\"Function to get matrix input from the user.\"\"\"\n",
    "    rows = int(input(f\"Enter the number of rows for matrix {matrix_name}: \"))\n",
    "    cols = int(input(f\"Enter the number of columns for matrix {matrix_name}: \"))\n",
    "    \n",
    "    matrix = []\n",
    "    print(f\"Enter the elements of matrix {matrix_name} row-wise:\")\n",
    "    for i in range(rows):\n",
    "        row = list(map(int, input(f\"Row {i + 1}: \").split()))\n",
    "        if len(row) != cols:\n",
    "            raise ValueError(f\"Row {i + 1} must have exactly {cols} columns.\")\n",
    "        matrix.append(row)\n",
    "    \n",
    "    return matrix\n",
    "\n",
    "def multiply_matrices(A, B):\n",
    "    \"\"\"Function to multiply two matrices A and B.\"\"\"\n",
    "    # Get dimensions\n",
    "    rows_A = len(A)\n",
    "    cols_A = len(A[0])\n",
    "    rows_B = len(B)\n",
    "    cols_B = len(B[0])\n",
    "\n",
    "    # Check if multiplication is possible\n",
    "    if cols_A != rows_B:\n",
    "        return None  # Return None if not multipliable\n",
    "\n",
    "    # Initialize the result matrix with zeros\n",
    "    result = [[0 for _ in range(cols_B)] for _ in range(rows_A)]\n",
    "\n",
    "    # Perform multiplication\n",
    "    for i in range(rows_A):\n",
    "        for j in range(cols_B):\n",
    "            for k in range(cols_A):\n",
    "                result[i][j] += A[i][k] * B[k][j]\n",
    "\n",
    "    return result\n",
    "\n",
    "def main():\n",
    "    \"\"\"Main function to execute the program.\"\"\"\n",
    "    try:\n",
    "        # Get matrices A and B from user\n",
    "        A = get_matrix_input(\"A\")\n",
    "        B = get_matrix_input(\"B\")\n",
    "\n",
    "        # Multiply matrices\n",
    "        product = multiply_matrices(A, B)\n",
    "\n",
    "        if product is None:\n",
    "            print(\"Error: Matrices A and B cannot be multiplied.\")\n",
    "        else:\n",
    "            print(\"Product of matrices A and B:\")\n",
    "            for row in product:\n",
    "                print(\" \".join(map(str, row)))\n",
    "\n",
    "    except ValueError as e:\n",
    "        print(f\"Input error: {e}\")\n",
    "\n",
    "if __name__ == \"__main__\":\n",
    "    main()"
   ]
  },
  {
   "cell_type": "code",
   "execution_count": 6,
   "id": "b5e724e5-7bda-4baa-ab1c-6911c874b30b",
   "metadata": {},
   "outputs": [
    {
     "name": "stdin",
     "output_type": "stream",
     "text": [
      "Enter elements of list 1 (space-separated):  13 16 17 1 1 4 \n",
      "Enter elements of list 2 (space-separated):  14 16 18 13 3 6\n"
     ]
    },
    {
     "name": "stdout",
     "output_type": "stream",
     "text": [
      "Number of common elements: 2\n"
     ]
    }
   ],
   "source": [
    "def count_common_elements(list1, list2):\n",
    "    \"\"\"Function to count the number of common elements between two lists.\"\"\"\n",
    "    return len(set(list1) & set(list2))\n",
    "\n",
    "def main():\n",
    "    \"\"\"Main function to execute the program.\"\"\"\n",
    "    list1 = list(map(int, input(\"Enter elements of list 1 (space-separated): \").split()))\n",
    "    list2 = list(map(int, input(\"Enter elements of list 2 (space-separated): \").split()))\n",
    "\n",
    "    common_count = count_common_elements(list1, list2)\n",
    "    print(f\"Number of common elements: {common_count}\")\n",
    "\n",
    "if __name__ == \"__main__\":\n",
    "    main()"
   ]
  },
  {
   "cell_type": "code",
   "execution_count": null,
   "id": "67df89e4-5679-42b0-a3d3-f756b9429506",
   "metadata": {},
   "outputs": [],
   "source": []
  }
 ],
 "metadata": {
  "kernelspec": {
   "display_name": "Python 3 (ipykernel)",
   "language": "python",
   "name": "python3"
  },
  "language_info": {
   "codemirror_mode": {
    "name": "ipython",
    "version": 3
   },
   "file_extension": ".py",
   "mimetype": "text/x-python",
   "name": "python",
   "nbconvert_exporter": "python",
   "pygments_lexer": "ipython3",
   "version": "3.12.4"
  }
 },
 "nbformat": 4,
 "nbformat_minor": 5
}
